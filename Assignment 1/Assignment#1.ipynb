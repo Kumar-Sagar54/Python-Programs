{
 "cells": [
  {
   "cell_type": "code",
   "execution_count": 1,
   "id": "70f9a8ad",
   "metadata": {},
   "outputs": [
    {
     "name": "stdout",
     "output_type": "stream",
     "text": [
      "Twinkle, twinkle, little star,\n",
      "\tHow I wonder what you are!\n",
      "\t\tUp above the world so high,\n",
      "\t\tLike a diamond in the sky.\n",
      "Twinkle, twinkle, little star,\n",
      "\tHow I wonder what you are\n"
     ]
    }
   ],
   "source": [
    "'''1. Write a Python program to print the following string in a specific format (see the \n",
    "output). \n",
    "        Twinkle, twinkle, little star, \n",
    "            How I wonder what you are! \n",
    "                Up above the world so high, \n",
    "                Like a diamond in the sky. \n",
    "         Twinkle, twinkle, little star, \n",
    "            How I wonder what you are '''\n",
    "print(\"Twinkle, twinkle, little star,\\n\\tHow I wonder what you are!\\n\\t\\tUp above the world so high,\\n\\t\\tLike a diamond in the sky.\\nTwinkle, twinkle, little star,\\n\\tHow I wonder what you are\");\n"
   ]
  },
  {
   "cell_type": "code",
   "execution_count": 2,
   "id": "ea997a50",
   "metadata": {},
   "outputs": [
    {
     "name": "stdout",
     "output_type": "stream",
     "text": [
      "Python Version: 3.9.7\n"
     ]
    }
   ],
   "source": [
    "#2. Write a Python program to get the Python version you are using\n",
    "import platform\n",
    "print(\"Python Version: \"+platform.python_version())"
   ]
  },
  {
   "cell_type": "code",
   "execution_count": 3,
   "id": "378b9366",
   "metadata": {},
   "outputs": [
    {
     "name": "stdout",
     "output_type": "stream",
     "text": [
      "Current Date and Time: 01-01-2022 12:20:24\n"
     ]
    }
   ],
   "source": [
    "#3. Write a Python program to display the current date and time.\n",
    "import datetime;\n",
    "\n",
    "now = datetime.datetime.now();\n",
    "print(\"Current Date and Time: \"+now.strftime(\"%d-%m-%Y %H:%M:%S\"));"
   ]
  },
  {
   "cell_type": "code",
   "execution_count": 4,
   "id": "caed3ffc",
   "metadata": {},
   "outputs": [
    {
     "name": "stdout",
     "output_type": "stream",
     "text": [
      "Enter the Radius Of Circle :4\n",
      "Area of circle is :  50.264 cm2\n"
     ]
    }
   ],
   "source": [
    "'''4. Write a Python program which accepts the radius of a circle from the user and compute \n",
    "the area.'''\n",
    "\n",
    "pi=3.1415\n",
    "radius=float(input(\"Enter the Radius Of Circle :\"));\n",
    "area=pi*radius**2;\n",
    "print(\"Area of circle is : \", area , \"cm2\");"
   ]
  },
  {
   "cell_type": "code",
   "execution_count": 5,
   "id": "37f2a596",
   "metadata": {},
   "outputs": [
    {
     "name": "stdout",
     "output_type": "stream",
     "text": [
      "Enter Your First Name :Sagar\n",
      "Enter Your Last Name :Kumar\n",
      "Your Full Name is :  Kumar Sagar\n"
     ]
    }
   ],
   "source": [
    "'''5. Write a Python program which accepts the user's first and last name and print them in \n",
    "reverse order with a space between them. '''\n",
    "\n",
    "first_name=input(\"Enter Your First Name :\");\n",
    "last_name= input(\"Enter Your Last Name :\");\n",
    "print(\"Your Full Name is : \",last_name+\" \"+first_name);"
   ]
  },
  {
   "cell_type": "code",
   "execution_count": 6,
   "id": "ae78e165",
   "metadata": {},
   "outputs": [
    {
     "name": "stdout",
     "output_type": "stream",
     "text": [
      "Enter the First Number :54\n",
      "Enter the Second Number :50\n",
      "Addition of Two Numbers is : 104\n"
     ]
    }
   ],
   "source": [
    "#6. Write a python program which takes two inputs from user and print them addition\n",
    "num1=int(input(\"Enter the First Number :\"));\n",
    "num2=int(input(\"Enter the Second Number :\"));\n",
    "print(\"Addition of Two Numbers is :\",(num1+num2));"
   ]
  },
  {
   "cell_type": "code",
   "execution_count": null,
   "id": "406f6398",
   "metadata": {},
   "outputs": [],
   "source": []
  }
 ],
 "metadata": {
  "kernelspec": {
   "display_name": "Python 3 (ipykernel)",
   "language": "python",
   "name": "python3"
  },
  "language_info": {
   "codemirror_mode": {
    "name": "ipython",
    "version": 3
   },
   "file_extension": ".py",
   "mimetype": "text/x-python",
   "name": "python",
   "nbconvert_exporter": "python",
   "pygments_lexer": "ipython3",
   "version": "3.9.7"
  }
 },
 "nbformat": 4,
 "nbformat_minor": 5
}
